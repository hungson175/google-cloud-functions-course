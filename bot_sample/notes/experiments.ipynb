{
 "cells": [
  {
   "cell_type": "code",
   "id": "initial_id",
   "metadata": {
    "collapsed": true,
    "ExecuteTime": {
     "end_time": "2024-04-30T09:26:55.681017Z",
     "start_time": "2024-04-30T09:26:55.618576Z"
    }
   },
   "source": [
    "import numpy as np\n",
    "import pandas as pd\n",
    "import sys\n",
    "from binance_futures_client import BinanceFuturesClient\n",
    "import utils\n"
   ],
   "outputs": [],
   "execution_count": 5
  },
  {
   "metadata": {
    "ExecuteTime": {
     "end_time": "2024-04-30T09:27:26.244280Z",
     "start_time": "2024-04-30T09:27:26.240408Z"
    }
   },
   "cell_type": "code",
   "source": "client = BinanceFuturesClient(None, None, testing=True)",
   "id": "f259c65ad75eccb6",
   "outputs": [],
   "execution_count": 6
  },
  {
   "metadata": {
    "ExecuteTime": {
     "end_time": "2024-04-30T09:27:42.032593Z",
     "start_time": "2024-04-30T09:27:41.742236Z"
    }
   },
   "cell_type": "code",
   "source": "utils.ms_to_datetime(client.get_server_time())",
   "id": "2d3fec376ca4a97d",
   "outputs": [
    {
     "data": {
      "text/plain": [
       "datetime.datetime(2024, 4, 30, 16, 27, 41, 982000)"
      ]
     },
     "execution_count": 8,
     "metadata": {},
     "output_type": "execute_result"
    }
   ],
   "execution_count": 8
  },
  {
   "metadata": {
    "ExecuteTime": {
     "end_time": "2024-04-30T09:30:21.057319Z",
     "start_time": "2024-04-30T09:30:20.695056Z"
    }
   },
   "cell_type": "code",
   "source": "candles = client.klines('BTCUSDT', '4h', limit=300)",
   "id": "73e5d4e6af96e680",
   "outputs": [],
   "execution_count": 15
  },
  {
   "metadata": {
    "ExecuteTime": {
     "end_time": "2024-04-30T09:30:21.598383Z",
     "start_time": "2024-04-30T09:30:21.595891Z"
    }
   },
   "cell_type": "code",
   "source": "df = pd.DataFrame(candles)",
   "id": "4fdd1e85b8bc4f99",
   "outputs": [],
   "execution_count": 16
  },
  {
   "metadata": {
    "ExecuteTime": {
     "end_time": "2024-04-30T09:30:26.465565Z",
     "start_time": "2024-04-30T09:30:26.438485Z"
    }
   },
   "cell_type": "code",
   "source": "df.describe()",
   "id": "acd6f3e6937c615f",
   "outputs": [
    {
     "data": {
      "text/plain": [
       "          open_time          open           high           low         close  \\\n",
       "count  3.000000e+02    300.000000     300.000000    300.000000    300.000000   \n",
       "mean   1.712311e+12  67980.112667   69022.657000  67015.343000  67942.058000   \n",
       "std    1.249153e+09   3226.145183    3793.744426   3262.564385   3266.836523   \n",
       "min    1.710158e+12  61440.500000   61800.000000  59299.000000  61430.700000   \n",
       "25%    1.711235e+12  65207.650000   66187.500000  64370.150000  65339.225000   \n",
       "50%    1.712311e+12  67773.400000   68952.900000  66673.550000  67685.700000   \n",
       "75%    1.713388e+12  70709.150000   71499.925000  70006.200000  70738.375000   \n",
       "max    1.714464e+12  75378.800000  100130.100000  74290.100000  75330.000000   \n",
       "\n",
       "             volume    close_time  \n",
       "count    300.000000  3.000000e+02  \n",
       "mean    6893.148013  1.712326e+12  \n",
       "std     7184.626305  1.249153e+09  \n",
       "min      398.197000  1.710173e+12  \n",
       "25%     1528.889000  1.711249e+12  \n",
       "50%     3198.430500  1.712326e+12  \n",
       "75%    12254.685250  1.713402e+12  \n",
       "max    33435.313000  1.714478e+12  "
      ],
      "text/html": [
       "<div>\n",
       "<style scoped>\n",
       "    .dataframe tbody tr th:only-of-type {\n",
       "        vertical-align: middle;\n",
       "    }\n",
       "\n",
       "    .dataframe tbody tr th {\n",
       "        vertical-align: top;\n",
       "    }\n",
       "\n",
       "    .dataframe thead th {\n",
       "        text-align: right;\n",
       "    }\n",
       "</style>\n",
       "<table border=\"1\" class=\"dataframe\">\n",
       "  <thead>\n",
       "    <tr style=\"text-align: right;\">\n",
       "      <th></th>\n",
       "      <th>open_time</th>\n",
       "      <th>open</th>\n",
       "      <th>high</th>\n",
       "      <th>low</th>\n",
       "      <th>close</th>\n",
       "      <th>volume</th>\n",
       "      <th>close_time</th>\n",
       "    </tr>\n",
       "  </thead>\n",
       "  <tbody>\n",
       "    <tr>\n",
       "      <th>count</th>\n",
       "      <td>3.000000e+02</td>\n",
       "      <td>300.000000</td>\n",
       "      <td>300.000000</td>\n",
       "      <td>300.000000</td>\n",
       "      <td>300.000000</td>\n",
       "      <td>300.000000</td>\n",
       "      <td>3.000000e+02</td>\n",
       "    </tr>\n",
       "    <tr>\n",
       "      <th>mean</th>\n",
       "      <td>1.712311e+12</td>\n",
       "      <td>67980.112667</td>\n",
       "      <td>69022.657000</td>\n",
       "      <td>67015.343000</td>\n",
       "      <td>67942.058000</td>\n",
       "      <td>6893.148013</td>\n",
       "      <td>1.712326e+12</td>\n",
       "    </tr>\n",
       "    <tr>\n",
       "      <th>std</th>\n",
       "      <td>1.249153e+09</td>\n",
       "      <td>3226.145183</td>\n",
       "      <td>3793.744426</td>\n",
       "      <td>3262.564385</td>\n",
       "      <td>3266.836523</td>\n",
       "      <td>7184.626305</td>\n",
       "      <td>1.249153e+09</td>\n",
       "    </tr>\n",
       "    <tr>\n",
       "      <th>min</th>\n",
       "      <td>1.710158e+12</td>\n",
       "      <td>61440.500000</td>\n",
       "      <td>61800.000000</td>\n",
       "      <td>59299.000000</td>\n",
       "      <td>61430.700000</td>\n",
       "      <td>398.197000</td>\n",
       "      <td>1.710173e+12</td>\n",
       "    </tr>\n",
       "    <tr>\n",
       "      <th>25%</th>\n",
       "      <td>1.711235e+12</td>\n",
       "      <td>65207.650000</td>\n",
       "      <td>66187.500000</td>\n",
       "      <td>64370.150000</td>\n",
       "      <td>65339.225000</td>\n",
       "      <td>1528.889000</td>\n",
       "      <td>1.711249e+12</td>\n",
       "    </tr>\n",
       "    <tr>\n",
       "      <th>50%</th>\n",
       "      <td>1.712311e+12</td>\n",
       "      <td>67773.400000</td>\n",
       "      <td>68952.900000</td>\n",
       "      <td>66673.550000</td>\n",
       "      <td>67685.700000</td>\n",
       "      <td>3198.430500</td>\n",
       "      <td>1.712326e+12</td>\n",
       "    </tr>\n",
       "    <tr>\n",
       "      <th>75%</th>\n",
       "      <td>1.713388e+12</td>\n",
       "      <td>70709.150000</td>\n",
       "      <td>71499.925000</td>\n",
       "      <td>70006.200000</td>\n",
       "      <td>70738.375000</td>\n",
       "      <td>12254.685250</td>\n",
       "      <td>1.713402e+12</td>\n",
       "    </tr>\n",
       "    <tr>\n",
       "      <th>max</th>\n",
       "      <td>1.714464e+12</td>\n",
       "      <td>75378.800000</td>\n",
       "      <td>100130.100000</td>\n",
       "      <td>74290.100000</td>\n",
       "      <td>75330.000000</td>\n",
       "      <td>33435.313000</td>\n",
       "      <td>1.714478e+12</td>\n",
       "    </tr>\n",
       "  </tbody>\n",
       "</table>\n",
       "</div>"
      ]
     },
     "execution_count": 18,
     "metadata": {},
     "output_type": "execute_result"
    }
   ],
   "execution_count": 18
  },
  {
   "metadata": {
    "ExecuteTime": {
     "end_time": "2024-04-30T09:30:35.381113Z",
     "start_time": "2024-04-30T09:30:35.372844Z"
    }
   },
   "cell_type": "code",
   "source": "df.head(5)",
   "id": "6d485d68cc9693a1",
   "outputs": [
    {
     "data": {
      "text/plain": [
       "       open_time     open     high      low    close     volume     close_time\n",
       "0  1710158400000  71300.2  72339.5  70801.1  72232.9  19032.636  1710172799999\n",
       "1  1710172800000  72129.0  72799.0  71803.3  72000.0  20309.213  1710187199999\n",
       "2  1710187200000  72000.0  72499.8  71950.1  72002.2  16368.742  1710201599999\n",
       "3  1710201600000  72153.8  72397.2  71692.0  72232.9  18253.165  1710215999999\n",
       "4  1710216000000  71992.0  72489.9  71509.8  72232.9  17106.055  1710230399999"
      ],
      "text/html": [
       "<div>\n",
       "<style scoped>\n",
       "    .dataframe tbody tr th:only-of-type {\n",
       "        vertical-align: middle;\n",
       "    }\n",
       "\n",
       "    .dataframe tbody tr th {\n",
       "        vertical-align: top;\n",
       "    }\n",
       "\n",
       "    .dataframe thead th {\n",
       "        text-align: right;\n",
       "    }\n",
       "</style>\n",
       "<table border=\"1\" class=\"dataframe\">\n",
       "  <thead>\n",
       "    <tr style=\"text-align: right;\">\n",
       "      <th></th>\n",
       "      <th>open_time</th>\n",
       "      <th>open</th>\n",
       "      <th>high</th>\n",
       "      <th>low</th>\n",
       "      <th>close</th>\n",
       "      <th>volume</th>\n",
       "      <th>close_time</th>\n",
       "    </tr>\n",
       "  </thead>\n",
       "  <tbody>\n",
       "    <tr>\n",
       "      <th>0</th>\n",
       "      <td>1710158400000</td>\n",
       "      <td>71300.2</td>\n",
       "      <td>72339.5</td>\n",
       "      <td>70801.1</td>\n",
       "      <td>72232.9</td>\n",
       "      <td>19032.636</td>\n",
       "      <td>1710172799999</td>\n",
       "    </tr>\n",
       "    <tr>\n",
       "      <th>1</th>\n",
       "      <td>1710172800000</td>\n",
       "      <td>72129.0</td>\n",
       "      <td>72799.0</td>\n",
       "      <td>71803.3</td>\n",
       "      <td>72000.0</td>\n",
       "      <td>20309.213</td>\n",
       "      <td>1710187199999</td>\n",
       "    </tr>\n",
       "    <tr>\n",
       "      <th>2</th>\n",
       "      <td>1710187200000</td>\n",
       "      <td>72000.0</td>\n",
       "      <td>72499.8</td>\n",
       "      <td>71950.1</td>\n",
       "      <td>72002.2</td>\n",
       "      <td>16368.742</td>\n",
       "      <td>1710201599999</td>\n",
       "    </tr>\n",
       "    <tr>\n",
       "      <th>3</th>\n",
       "      <td>1710201600000</td>\n",
       "      <td>72153.8</td>\n",
       "      <td>72397.2</td>\n",
       "      <td>71692.0</td>\n",
       "      <td>72232.9</td>\n",
       "      <td>18253.165</td>\n",
       "      <td>1710215999999</td>\n",
       "    </tr>\n",
       "    <tr>\n",
       "      <th>4</th>\n",
       "      <td>1710216000000</td>\n",
       "      <td>71992.0</td>\n",
       "      <td>72489.9</td>\n",
       "      <td>71509.8</td>\n",
       "      <td>72232.9</td>\n",
       "      <td>17106.055</td>\n",
       "      <td>1710230399999</td>\n",
       "    </tr>\n",
       "  </tbody>\n",
       "</table>\n",
       "</div>"
      ]
     },
     "execution_count": 20,
     "metadata": {},
     "output_type": "execute_result"
    }
   ],
   "execution_count": 20
  },
  {
   "metadata": {
    "ExecuteTime": {
     "end_time": "2024-04-30T09:30:58.918105Z",
     "start_time": "2024-04-30T09:30:58.620224Z"
    }
   },
   "cell_type": "code",
   "source": "utils.ms_to_datetime(df[:, 0])",
   "id": "a15316f2d7abce",
   "outputs": [
    {
     "ename": "InvalidIndexError",
     "evalue": "(slice(None, None, None), 0)",
     "output_type": "error",
     "traceback": [
      "\u001B[0;31m---------------------------------------------------------------------------\u001B[0m",
      "\u001B[0;31mTypeError\u001B[0m                                 Traceback (most recent call last)",
      "File \u001B[0;32m~/dev/google-cloud-functions-course/venv/lib/python3.10/site-packages/pandas/core/indexes/base.py:3805\u001B[0m, in \u001B[0;36mIndex.get_loc\u001B[0;34m(self, key)\u001B[0m\n\u001B[1;32m   3804\u001B[0m \u001B[38;5;28;01mtry\u001B[39;00m:\n\u001B[0;32m-> 3805\u001B[0m     \u001B[38;5;28;01mreturn\u001B[39;00m \u001B[38;5;28;43mself\u001B[39;49m\u001B[38;5;241;43m.\u001B[39;49m\u001B[43m_engine\u001B[49m\u001B[38;5;241;43m.\u001B[39;49m\u001B[43mget_loc\u001B[49m\u001B[43m(\u001B[49m\u001B[43mcasted_key\u001B[49m\u001B[43m)\u001B[49m\n\u001B[1;32m   3806\u001B[0m \u001B[38;5;28;01mexcept\u001B[39;00m \u001B[38;5;167;01mKeyError\u001B[39;00m \u001B[38;5;28;01mas\u001B[39;00m err:\n",
      "File \u001B[0;32mindex.pyx:167\u001B[0m, in \u001B[0;36mpandas._libs.index.IndexEngine.get_loc\u001B[0;34m()\u001B[0m\n",
      "File \u001B[0;32mindex.pyx:173\u001B[0m, in \u001B[0;36mpandas._libs.index.IndexEngine.get_loc\u001B[0;34m()\u001B[0m\n",
      "\u001B[0;31mTypeError\u001B[0m: '(slice(None, None, None), 0)' is an invalid key",
      "\nDuring handling of the above exception, another exception occurred:\n",
      "\u001B[0;31mInvalidIndexError\u001B[0m                         Traceback (most recent call last)",
      "Cell \u001B[0;32mIn[21], line 1\u001B[0m\n\u001B[0;32m----> 1\u001B[0m utils\u001B[38;5;241m.\u001B[39mms_to_datetime(\u001B[43mdf\u001B[49m\u001B[43m[\u001B[49m\u001B[43m:\u001B[49m\u001B[43m,\u001B[49m\u001B[38;5;241;43m0\u001B[39;49m\u001B[43m]\u001B[49m)\n",
      "File \u001B[0;32m~/dev/google-cloud-functions-course/venv/lib/python3.10/site-packages/pandas/core/frame.py:4102\u001B[0m, in \u001B[0;36mDataFrame.__getitem__\u001B[0;34m(self, key)\u001B[0m\n\u001B[1;32m   4100\u001B[0m \u001B[38;5;28;01mif\u001B[39;00m \u001B[38;5;28mself\u001B[39m\u001B[38;5;241m.\u001B[39mcolumns\u001B[38;5;241m.\u001B[39mnlevels \u001B[38;5;241m>\u001B[39m \u001B[38;5;241m1\u001B[39m:\n\u001B[1;32m   4101\u001B[0m     \u001B[38;5;28;01mreturn\u001B[39;00m \u001B[38;5;28mself\u001B[39m\u001B[38;5;241m.\u001B[39m_getitem_multilevel(key)\n\u001B[0;32m-> 4102\u001B[0m indexer \u001B[38;5;241m=\u001B[39m \u001B[38;5;28;43mself\u001B[39;49m\u001B[38;5;241;43m.\u001B[39;49m\u001B[43mcolumns\u001B[49m\u001B[38;5;241;43m.\u001B[39;49m\u001B[43mget_loc\u001B[49m\u001B[43m(\u001B[49m\u001B[43mkey\u001B[49m\u001B[43m)\u001B[49m\n\u001B[1;32m   4103\u001B[0m \u001B[38;5;28;01mif\u001B[39;00m is_integer(indexer):\n\u001B[1;32m   4104\u001B[0m     indexer \u001B[38;5;241m=\u001B[39m [indexer]\n",
      "File \u001B[0;32m~/dev/google-cloud-functions-course/venv/lib/python3.10/site-packages/pandas/core/indexes/base.py:3817\u001B[0m, in \u001B[0;36mIndex.get_loc\u001B[0;34m(self, key)\u001B[0m\n\u001B[1;32m   3812\u001B[0m     \u001B[38;5;28;01mraise\u001B[39;00m \u001B[38;5;167;01mKeyError\u001B[39;00m(key) \u001B[38;5;28;01mfrom\u001B[39;00m \u001B[38;5;21;01merr\u001B[39;00m\n\u001B[1;32m   3813\u001B[0m \u001B[38;5;28;01mexcept\u001B[39;00m \u001B[38;5;167;01mTypeError\u001B[39;00m:\n\u001B[1;32m   3814\u001B[0m     \u001B[38;5;66;03m# If we have a listlike key, _check_indexing_error will raise\u001B[39;00m\n\u001B[1;32m   3815\u001B[0m     \u001B[38;5;66;03m#  InvalidIndexError. Otherwise we fall through and re-raise\u001B[39;00m\n\u001B[1;32m   3816\u001B[0m     \u001B[38;5;66;03m#  the TypeError.\u001B[39;00m\n\u001B[0;32m-> 3817\u001B[0m     \u001B[38;5;28;43mself\u001B[39;49m\u001B[38;5;241;43m.\u001B[39;49m\u001B[43m_check_indexing_error\u001B[49m\u001B[43m(\u001B[49m\u001B[43mkey\u001B[49m\u001B[43m)\u001B[49m\n\u001B[1;32m   3818\u001B[0m     \u001B[38;5;28;01mraise\u001B[39;00m\n",
      "File \u001B[0;32m~/dev/google-cloud-functions-course/venv/lib/python3.10/site-packages/pandas/core/indexes/base.py:6059\u001B[0m, in \u001B[0;36mIndex._check_indexing_error\u001B[0;34m(self, key)\u001B[0m\n\u001B[1;32m   6055\u001B[0m \u001B[38;5;28;01mdef\u001B[39;00m \u001B[38;5;21m_check_indexing_error\u001B[39m(\u001B[38;5;28mself\u001B[39m, key):\n\u001B[1;32m   6056\u001B[0m     \u001B[38;5;28;01mif\u001B[39;00m \u001B[38;5;129;01mnot\u001B[39;00m is_scalar(key):\n\u001B[1;32m   6057\u001B[0m         \u001B[38;5;66;03m# if key is not a scalar, directly raise an error (the code below\u001B[39;00m\n\u001B[1;32m   6058\u001B[0m         \u001B[38;5;66;03m# would convert to numpy arrays and raise later any way) - GH29926\u001B[39;00m\n\u001B[0;32m-> 6059\u001B[0m         \u001B[38;5;28;01mraise\u001B[39;00m InvalidIndexError(key)\n",
      "\u001B[0;31mInvalidIndexError\u001B[0m: (slice(None, None, None), 0)"
     ]
    }
   ],
   "execution_count": 21
  },
  {
   "metadata": {
    "ExecuteTime": {
     "end_time": "2024-04-30T09:31:09.013936Z",
     "start_time": "2024-04-30T09:31:08.981975Z"
    }
   },
   "cell_type": "code",
   "source": "df[:, 0]",
   "id": "9398f3d6f00a1ede",
   "outputs": [
    {
     "ename": "InvalidIndexError",
     "evalue": "(slice(None, None, None), 0)",
     "output_type": "error",
     "traceback": [
      "\u001B[0;31m---------------------------------------------------------------------------\u001B[0m",
      "\u001B[0;31mTypeError\u001B[0m                                 Traceback (most recent call last)",
      "File \u001B[0;32m~/dev/google-cloud-functions-course/venv/lib/python3.10/site-packages/pandas/core/indexes/base.py:3805\u001B[0m, in \u001B[0;36mIndex.get_loc\u001B[0;34m(self, key)\u001B[0m\n\u001B[1;32m   3804\u001B[0m \u001B[38;5;28;01mtry\u001B[39;00m:\n\u001B[0;32m-> 3805\u001B[0m     \u001B[38;5;28;01mreturn\u001B[39;00m \u001B[38;5;28;43mself\u001B[39;49m\u001B[38;5;241;43m.\u001B[39;49m\u001B[43m_engine\u001B[49m\u001B[38;5;241;43m.\u001B[39;49m\u001B[43mget_loc\u001B[49m\u001B[43m(\u001B[49m\u001B[43mcasted_key\u001B[49m\u001B[43m)\u001B[49m\n\u001B[1;32m   3806\u001B[0m \u001B[38;5;28;01mexcept\u001B[39;00m \u001B[38;5;167;01mKeyError\u001B[39;00m \u001B[38;5;28;01mas\u001B[39;00m err:\n",
      "File \u001B[0;32mindex.pyx:167\u001B[0m, in \u001B[0;36mpandas._libs.index.IndexEngine.get_loc\u001B[0;34m()\u001B[0m\n",
      "File \u001B[0;32mindex.pyx:173\u001B[0m, in \u001B[0;36mpandas._libs.index.IndexEngine.get_loc\u001B[0;34m()\u001B[0m\n",
      "\u001B[0;31mTypeError\u001B[0m: '(slice(None, None, None), 0)' is an invalid key",
      "\nDuring handling of the above exception, another exception occurred:\n",
      "\u001B[0;31mInvalidIndexError\u001B[0m                         Traceback (most recent call last)",
      "Cell \u001B[0;32mIn[22], line 1\u001B[0m\n\u001B[0;32m----> 1\u001B[0m \u001B[43mdf\u001B[49m\u001B[43m[\u001B[49m\u001B[43m:\u001B[49m\u001B[43m,\u001B[49m\u001B[38;5;241;43m0\u001B[39;49m\u001B[43m]\u001B[49m\n",
      "File \u001B[0;32m~/dev/google-cloud-functions-course/venv/lib/python3.10/site-packages/pandas/core/frame.py:4102\u001B[0m, in \u001B[0;36mDataFrame.__getitem__\u001B[0;34m(self, key)\u001B[0m\n\u001B[1;32m   4100\u001B[0m \u001B[38;5;28;01mif\u001B[39;00m \u001B[38;5;28mself\u001B[39m\u001B[38;5;241m.\u001B[39mcolumns\u001B[38;5;241m.\u001B[39mnlevels \u001B[38;5;241m>\u001B[39m \u001B[38;5;241m1\u001B[39m:\n\u001B[1;32m   4101\u001B[0m     \u001B[38;5;28;01mreturn\u001B[39;00m \u001B[38;5;28mself\u001B[39m\u001B[38;5;241m.\u001B[39m_getitem_multilevel(key)\n\u001B[0;32m-> 4102\u001B[0m indexer \u001B[38;5;241m=\u001B[39m \u001B[38;5;28;43mself\u001B[39;49m\u001B[38;5;241;43m.\u001B[39;49m\u001B[43mcolumns\u001B[49m\u001B[38;5;241;43m.\u001B[39;49m\u001B[43mget_loc\u001B[49m\u001B[43m(\u001B[49m\u001B[43mkey\u001B[49m\u001B[43m)\u001B[49m\n\u001B[1;32m   4103\u001B[0m \u001B[38;5;28;01mif\u001B[39;00m is_integer(indexer):\n\u001B[1;32m   4104\u001B[0m     indexer \u001B[38;5;241m=\u001B[39m [indexer]\n",
      "File \u001B[0;32m~/dev/google-cloud-functions-course/venv/lib/python3.10/site-packages/pandas/core/indexes/base.py:3817\u001B[0m, in \u001B[0;36mIndex.get_loc\u001B[0;34m(self, key)\u001B[0m\n\u001B[1;32m   3812\u001B[0m     \u001B[38;5;28;01mraise\u001B[39;00m \u001B[38;5;167;01mKeyError\u001B[39;00m(key) \u001B[38;5;28;01mfrom\u001B[39;00m \u001B[38;5;21;01merr\u001B[39;00m\n\u001B[1;32m   3813\u001B[0m \u001B[38;5;28;01mexcept\u001B[39;00m \u001B[38;5;167;01mTypeError\u001B[39;00m:\n\u001B[1;32m   3814\u001B[0m     \u001B[38;5;66;03m# If we have a listlike key, _check_indexing_error will raise\u001B[39;00m\n\u001B[1;32m   3815\u001B[0m     \u001B[38;5;66;03m#  InvalidIndexError. Otherwise we fall through and re-raise\u001B[39;00m\n\u001B[1;32m   3816\u001B[0m     \u001B[38;5;66;03m#  the TypeError.\u001B[39;00m\n\u001B[0;32m-> 3817\u001B[0m     \u001B[38;5;28;43mself\u001B[39;49m\u001B[38;5;241;43m.\u001B[39;49m\u001B[43m_check_indexing_error\u001B[49m\u001B[43m(\u001B[49m\u001B[43mkey\u001B[49m\u001B[43m)\u001B[49m\n\u001B[1;32m   3818\u001B[0m     \u001B[38;5;28;01mraise\u001B[39;00m\n",
      "File \u001B[0;32m~/dev/google-cloud-functions-course/venv/lib/python3.10/site-packages/pandas/core/indexes/base.py:6059\u001B[0m, in \u001B[0;36mIndex._check_indexing_error\u001B[0;34m(self, key)\u001B[0m\n\u001B[1;32m   6055\u001B[0m \u001B[38;5;28;01mdef\u001B[39;00m \u001B[38;5;21m_check_indexing_error\u001B[39m(\u001B[38;5;28mself\u001B[39m, key):\n\u001B[1;32m   6056\u001B[0m     \u001B[38;5;28;01mif\u001B[39;00m \u001B[38;5;129;01mnot\u001B[39;00m is_scalar(key):\n\u001B[1;32m   6057\u001B[0m         \u001B[38;5;66;03m# if key is not a scalar, directly raise an error (the code below\u001B[39;00m\n\u001B[1;32m   6058\u001B[0m         \u001B[38;5;66;03m# would convert to numpy arrays and raise later any way) - GH29926\u001B[39;00m\n\u001B[0;32m-> 6059\u001B[0m         \u001B[38;5;28;01mraise\u001B[39;00m InvalidIndexError(key)\n",
      "\u001B[0;31mInvalidIndexError\u001B[0m: (slice(None, None, None), 0)"
     ]
    }
   ],
   "execution_count": 22
  },
  {
   "metadata": {
    "ExecuteTime": {
     "end_time": "2024-04-30T09:32:09.075278Z",
     "start_time": "2024-04-30T09:32:09.072620Z"
    }
   },
   "cell_type": "code",
   "source": [
    "# get the open_time column\n",
    "open_time = df.iloc[:, 0]\n",
    "open_time.head(5)"
   ],
   "id": "91c4610bf01c2a2d",
   "outputs": [
    {
     "data": {
      "text/plain": [
       "0    1710158400000\n",
       "1    1710172800000\n",
       "2    1710187200000\n",
       "3    1710201600000\n",
       "4    1710216000000\n",
       "Name: open_time, dtype: int64"
      ]
     },
     "execution_count": 25,
     "metadata": {},
     "output_type": "execute_result"
    }
   ],
   "execution_count": 25
  },
  {
   "metadata": {
    "ExecuteTime": {
     "end_time": "2024-04-30T09:33:18.026456Z",
     "start_time": "2024-04-30T09:33:18.018953Z"
    }
   },
   "cell_type": "code",
   "source": [
    "# add a column with the open_time converted to datetime\n",
    "df['open_dt'] = pd.to_datetime(df.iloc[:, 0], unit='ms')\n",
    "df.head(5)"
   ],
   "id": "887162c84599d55f",
   "outputs": [
    {
     "data": {
      "text/plain": [
       "       open_time     open     high      low    close     volume  \\\n",
       "0  1710158400000  71300.2  72339.5  70801.1  72232.9  19032.636   \n",
       "1  1710172800000  72129.0  72799.0  71803.3  72000.0  20309.213   \n",
       "2  1710187200000  72000.0  72499.8  71950.1  72002.2  16368.742   \n",
       "3  1710201600000  72153.8  72397.2  71692.0  72232.9  18253.165   \n",
       "4  1710216000000  71992.0  72489.9  71509.8  72232.9  17106.055   \n",
       "\n",
       "      close_time             open_dt  \n",
       "0  1710172799999 2024-03-11 12:00:00  \n",
       "1  1710187199999 2024-03-11 16:00:00  \n",
       "2  1710201599999 2024-03-11 20:00:00  \n",
       "3  1710215999999 2024-03-12 00:00:00  \n",
       "4  1710230399999 2024-03-12 04:00:00  "
      ],
      "text/html": [
       "<div>\n",
       "<style scoped>\n",
       "    .dataframe tbody tr th:only-of-type {\n",
       "        vertical-align: middle;\n",
       "    }\n",
       "\n",
       "    .dataframe tbody tr th {\n",
       "        vertical-align: top;\n",
       "    }\n",
       "\n",
       "    .dataframe thead th {\n",
       "        text-align: right;\n",
       "    }\n",
       "</style>\n",
       "<table border=\"1\" class=\"dataframe\">\n",
       "  <thead>\n",
       "    <tr style=\"text-align: right;\">\n",
       "      <th></th>\n",
       "      <th>open_time</th>\n",
       "      <th>open</th>\n",
       "      <th>high</th>\n",
       "      <th>low</th>\n",
       "      <th>close</th>\n",
       "      <th>volume</th>\n",
       "      <th>close_time</th>\n",
       "      <th>open_dt</th>\n",
       "    </tr>\n",
       "  </thead>\n",
       "  <tbody>\n",
       "    <tr>\n",
       "      <th>0</th>\n",
       "      <td>1710158400000</td>\n",
       "      <td>71300.2</td>\n",
       "      <td>72339.5</td>\n",
       "      <td>70801.1</td>\n",
       "      <td>72232.9</td>\n",
       "      <td>19032.636</td>\n",
       "      <td>1710172799999</td>\n",
       "      <td>2024-03-11 12:00:00</td>\n",
       "    </tr>\n",
       "    <tr>\n",
       "      <th>1</th>\n",
       "      <td>1710172800000</td>\n",
       "      <td>72129.0</td>\n",
       "      <td>72799.0</td>\n",
       "      <td>71803.3</td>\n",
       "      <td>72000.0</td>\n",
       "      <td>20309.213</td>\n",
       "      <td>1710187199999</td>\n",
       "      <td>2024-03-11 16:00:00</td>\n",
       "    </tr>\n",
       "    <tr>\n",
       "      <th>2</th>\n",
       "      <td>1710187200000</td>\n",
       "      <td>72000.0</td>\n",
       "      <td>72499.8</td>\n",
       "      <td>71950.1</td>\n",
       "      <td>72002.2</td>\n",
       "      <td>16368.742</td>\n",
       "      <td>1710201599999</td>\n",
       "      <td>2024-03-11 20:00:00</td>\n",
       "    </tr>\n",
       "    <tr>\n",
       "      <th>3</th>\n",
       "      <td>1710201600000</td>\n",
       "      <td>72153.8</td>\n",
       "      <td>72397.2</td>\n",
       "      <td>71692.0</td>\n",
       "      <td>72232.9</td>\n",
       "      <td>18253.165</td>\n",
       "      <td>1710215999999</td>\n",
       "      <td>2024-03-12 00:00:00</td>\n",
       "    </tr>\n",
       "    <tr>\n",
       "      <th>4</th>\n",
       "      <td>1710216000000</td>\n",
       "      <td>71992.0</td>\n",
       "      <td>72489.9</td>\n",
       "      <td>71509.8</td>\n",
       "      <td>72232.9</td>\n",
       "      <td>17106.055</td>\n",
       "      <td>1710230399999</td>\n",
       "      <td>2024-03-12 04:00:00</td>\n",
       "    </tr>\n",
       "  </tbody>\n",
       "</table>\n",
       "</div>"
      ]
     },
     "execution_count": 30,
     "metadata": {},
     "output_type": "execute_result"
    }
   ],
   "execution_count": 30
  },
  {
   "metadata": {
    "ExecuteTime": {
     "end_time": "2024-04-30T09:58:07.674481Z",
     "start_time": "2024-04-30T09:58:07.669624Z"
    }
   },
   "cell_type": "code",
   "source": [
    "# add a column as moving average of the close price\n",
    "slow_ma = df.iloc[:, 4].rolling(window=10).mean()\n",
    "fast_ma = df.iloc[:, 4].rolling(window=5).mean()\n"
   ],
   "id": "45f1682513352827",
   "outputs": [],
   "execution_count": 37
  },
  {
   "metadata": {
    "ExecuteTime": {
     "end_time": "2024-04-30T11:01:15.061491Z",
     "start_time": "2024-04-30T11:01:14.712283Z"
    }
   },
   "cell_type": "code",
   "source": [
    "def get_long_position(symbol):\n",
    "    positions = client.get_open_positions()\n",
    "    long_positions = [pos for pos in positions if (pos['positionSide'] == 'LONG' and pos['symbol'] == symbol)]\n",
    "    return None if len(long_positions) == 0 else long_positions[0]\n",
    "\n",
    "pos = get_long_position('BTCUSDT')\n",
    "print(pos)"
   ],
   "id": "4624be180f2183f2",
   "outputs": [
    {
     "name": "stdout",
     "output_type": "stream",
     "text": [
      "{'symbol': 'BTCUSDT', 'initialMargin': '37.01538000', 'maintMargin': '2.96123040', 'unrealizedProfit': '-0.98760000', 'positionInitialMargin': '37.01538000', 'openOrderInitialMargin': '0', 'leverage': '20', 'isolated': False, 'entryPrice': '61774.6', 'breakEvenPrice': '61799.30984', 'maxNotional': '20000000', 'positionSide': 'LONG', 'positionAmt': '0.012', 'notional': '740.30760000', 'isolatedWallet': '0', 'updateTime': 1714474669538, 'bidNotional': '0', 'askNotional': '0'}\n"
     ]
    }
   ],
   "execution_count": 43
  },
  {
   "metadata": {
    "ExecuteTime": {
     "end_time": "2024-04-30T11:10:02.208172Z",
     "start_time": "2024-04-30T11:10:02.196950Z"
    }
   },
   "cell_type": "code",
   "source": [
    "#initialize a new dataframe for the moving averages\n",
    "df_ma = pd.DataFrame()\n",
    "df_ma['slow_ma'] = df['close'].rolling(window=21).mean()\n",
    "# display df_ma from index 19 to 25, only 'slow_ma' column\n",
    "df_ma.loc[19:25, 'slow_ma']\n",
    "\n"
   ],
   "id": "f3ddc29c568c334a",
   "outputs": [
    {
     "data": {
      "text/plain": [
       "19             NaN\n",
       "20    72439.338095\n",
       "21    72415.642857\n",
       "22    72382.600000\n",
       "23    72290.257143\n",
       "24    72216.657143\n",
       "25    72143.085714\n",
       "Name: slow_ma, dtype: float64"
      ]
     },
     "execution_count": 49,
     "metadata": {},
     "output_type": "execute_result"
    }
   ],
   "execution_count": 49
  },
  {
   "metadata": {
    "ExecuteTime": {
     "end_time": "2024-04-30T11:14:25.907296Z",
     "start_time": "2024-04-30T11:14:25.902969Z"
    }
   },
   "cell_type": "code",
   "source": [
    "ma_frame = pd.DataFrame()\n",
    "ma_frame['ma'] = df['close'].rolling(window=21).mean()\n",
    "ma_frame.loc[19:25]\n"
   ],
   "id": "dd7b44ac0f3ed9db",
   "outputs": [
    {
     "data": {
      "text/plain": [
       "              ma\n",
       "19           NaN\n",
       "20  72439.338095\n",
       "21  72415.642857\n",
       "22  72382.600000\n",
       "23  72290.257143\n",
       "24  72216.657143\n",
       "25  72143.085714"
      ],
      "text/html": [
       "<div>\n",
       "<style scoped>\n",
       "    .dataframe tbody tr th:only-of-type {\n",
       "        vertical-align: middle;\n",
       "    }\n",
       "\n",
       "    .dataframe tbody tr th {\n",
       "        vertical-align: top;\n",
       "    }\n",
       "\n",
       "    .dataframe thead th {\n",
       "        text-align: right;\n",
       "    }\n",
       "</style>\n",
       "<table border=\"1\" class=\"dataframe\">\n",
       "  <thead>\n",
       "    <tr style=\"text-align: right;\">\n",
       "      <th></th>\n",
       "      <th>ma</th>\n",
       "    </tr>\n",
       "  </thead>\n",
       "  <tbody>\n",
       "    <tr>\n",
       "      <th>19</th>\n",
       "      <td>NaN</td>\n",
       "    </tr>\n",
       "    <tr>\n",
       "      <th>20</th>\n",
       "      <td>72439.338095</td>\n",
       "    </tr>\n",
       "    <tr>\n",
       "      <th>21</th>\n",
       "      <td>72415.642857</td>\n",
       "    </tr>\n",
       "    <tr>\n",
       "      <th>22</th>\n",
       "      <td>72382.600000</td>\n",
       "    </tr>\n",
       "    <tr>\n",
       "      <th>23</th>\n",
       "      <td>72290.257143</td>\n",
       "    </tr>\n",
       "    <tr>\n",
       "      <th>24</th>\n",
       "      <td>72216.657143</td>\n",
       "    </tr>\n",
       "    <tr>\n",
       "      <th>25</th>\n",
       "      <td>72143.085714</td>\n",
       "    </tr>\n",
       "  </tbody>\n",
       "</table>\n",
       "</div>"
      ]
     },
     "execution_count": 52,
     "metadata": {},
     "output_type": "execute_result"
    }
   ],
   "execution_count": 52
  },
  {
   "metadata": {},
   "cell_type": "code",
   "outputs": [],
   "execution_count": null,
   "source": "",
   "id": "5181e7165e1d6e5c"
  }
 ],
 "metadata": {
  "kernelspec": {
   "display_name": "Python 3",
   "language": "python",
   "name": "python3"
  },
  "language_info": {
   "codemirror_mode": {
    "name": "ipython",
    "version": 2
   },
   "file_extension": ".py",
   "mimetype": "text/x-python",
   "name": "python",
   "nbconvert_exporter": "python",
   "pygments_lexer": "ipython2",
   "version": "2.7.6"
  }
 },
 "nbformat": 4,
 "nbformat_minor": 5
}
